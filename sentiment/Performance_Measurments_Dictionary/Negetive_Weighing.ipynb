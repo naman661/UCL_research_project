{
  "nbformat": 4,
  "nbformat_minor": 0,
  "metadata": {
    "colab": {
      "provenance": []
    },
    "kernelspec": {
      "name": "python3",
      "display_name": "Python 3"
    },
    "language_info": {
      "name": "python"
    }
  },
  "cells": [
    {
      "cell_type": "code",
      "execution_count": null,
      "metadata": {
        "id": "A4oOBz6YEe4b"
      },
      "outputs": [],
      "source": [
        "import pandas as pd                           ####  CODE TO GIVE DICTIONARY NEGETIVE WEIGHTS!!!\n",
        "\n",
        "# Load the CSV file\n",
        "file_path = '/Tesla_dectionary_1_umang.csv'  # Replace with the actual path to your CSV file\n",
        "df = pd.read_csv(file_path)\n",
        "\n",
        "# Multiply negative Sentiment_Score by 100\n",
        "df['Sentiment_Score'] = df['Sentiment_Score'].apply(lambda x: x * 10000 if x < 0 else x)\n",
        "\n",
        "# Save the modified dataframe to a new CSV file\n",
        "output_file_path = '/content/neg_10000.csv'  # Replace with the desired output path\n",
        "df.to_csv(output_file_path, index=False)\n",
        "\n",
        "print(\"Modified CSV file saved successfully.\")"
      ]
    }
  ]
}