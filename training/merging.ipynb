{
  "nbformat": 4,
  "nbformat_minor": 0,
  "metadata": {
    "colab": {
      "provenance": []
    },
    "kernelspec": {
      "name": "python3",
      "display_name": "Python 3"
    },
    "language_info": {
      "name": "python"
    }
  },
  "cells": [
    {
      "cell_type": "code",
      "execution_count": null,
      "metadata": {
        "colab": {
          "base_uri": "https://localhost:8080/"
        },
        "id": "S8dXpRCB2oBH",
        "outputId": "1e212e1c-25d8-4dbe-dea5-6c54f17d73d1"
      },
      "outputs": [
        {
          "output_type": "stream",
          "name": "stdout",
          "text": [
            "                  Open        High         Low       Close     Volume  \\\n",
            "Date                                                                    \n",
            "2019-12-24   27.890667   28.364668   27.512667   28.350000  120820500   \n",
            "2019-12-26   28.527332   28.898666   28.423332   28.729334  159508500   \n",
            "2019-12-27   29.000000   29.020666   28.407333   28.691999  149185500   \n",
            "2019-12-30   28.586000   28.600000   27.284000   27.646667  188796000   \n",
            "2019-12-31   27.000000   28.086000   26.805332   27.888666  154285500   \n",
            "...                ...         ...         ...         ...        ...   \n",
            "2022-02-22  278.043335  285.576660  267.033325  273.843323   83288100   \n",
            "2022-02-23  276.809998  278.433319  253.520004  254.679993   95256900   \n",
            "2022-02-24  233.463333  267.493347  233.333328  266.923340  135322200   \n",
            "2022-02-25  269.743347  273.166656  260.799988  269.956665   76067700   \n",
            "2022-02-28  271.670013  292.286682  271.570007  290.143341   99006900   \n",
            "\n",
            "            Dividends  Stock Splits  \n",
            "Date                                 \n",
            "2019-12-24        0.0           0.0  \n",
            "2019-12-26        0.0           0.0  \n",
            "2019-12-27        0.0           0.0  \n",
            "2019-12-30        0.0           0.0  \n",
            "2019-12-31        0.0           0.0  \n",
            "...               ...           ...  \n",
            "2022-02-22        0.0           0.0  \n",
            "2022-02-23        0.0           0.0  \n",
            "2022-02-24        0.0           0.0  \n",
            "2022-02-25        0.0           0.0  \n",
            "2022-02-28        0.0           0.0  \n",
            "\n",
            "[549 rows x 7 columns]\n"
          ]
        }
      ],
      "source": [
        "import yfinance as yf\n",
        "import pandas as pd\n",
        "import datetime\n",
        "24-12-2019\n",
        "# Define the date ranges01-01-2022\n",
        "start_time_all = datetime.datetime(2019,12,24)\n",
        "end_time_all = datetime.datetime(2022, 3, 1)\n",
        "\n",
        "# Load Tesla, Inc. (TSLA) stock price data from Yahoo Finance using yfinance\n",
        "tsla = yf.Ticker('TSLA')\n",
        "tsla_price_df = tsla.history(start=start_time_all, end=end_time_all)\n",
        "\n",
        "# Ensure the index is in datetime format and remove the time component\n",
        "tsla_price_df.index = tsla_price_df.index.date\n",
        "\n",
        "# Reset index to make 'Date' a column and then set it back to index for clean display\n",
        "tsla_price_df.reset_index(inplace=True)\n",
        "tsla_price_df.rename(columns={'index': 'Date'}, inplace=True)\n",
        "tsla_price_df.set_index('Date', inplace=True)\n",
        "\n",
        "# Write the data to a CSV file\n",
        "csv_file_path = 'tsla_stock_data.csv'\n",
        "tsla_price_df.to_csv(csv_file_path)\n",
        "\n",
        "# Display the data\n",
        "print(tsla_price_df)"
      ]
    },
    {
      "cell_type": "code",
      "source": [
        "import pandas as pd\n",
        "\n",
        "# Load historical stock data\n",
        "historical_data_path = 'tsla_stock_data.csv'\n",
        "tsla_price_df = pd.read_csv(historical_data_path, parse_dates=['Date'], index_col='Date')\n",
        "\n",
        "# Load sentiment scores data\n",
        "sentiment_data_path = '/content/TSLA_2020_2022_dated2.csv'\n",
        "sentiment_df = pd.read_csv(sentiment_data_path, parse_dates=['date'], index_col='date')\n",
        "\n",
        "# Merge the dataframes on the Date column\n",
        "merged_df = tsla_price_df.join(sentiment_df, how='inner')\n",
        "\n",
        "# Write the merged data to a new CSV file\n",
        "merged_csv_file_path = 'merged_tsla_stock_data_with_sentiment.csv'\n",
        "merged_df.to_csv(merged_csv_file_path)\n",
        "\n",
        "# Display the merged data\n",
        "print(merged_df)"
      ],
      "metadata": {
        "colab": {
          "base_uri": "https://localhost:8080/"
        },
        "id": "vR-iDQeS2qgJ",
        "outputId": "42cdb77e-f128-45da-abb0-bfc5b070a2e9"
      },
      "execution_count": null,
      "outputs": [
        {
          "output_type": "stream",
          "name": "stdout",
          "text": [
            "                  Open        High         Low       Close     Volume  \\\n",
            "2019-12-24   27.890667   28.364668   27.512667   28.350000  120820500   \n",
            "2019-12-26   28.527332   28.898666   28.423332   28.729334  159508500   \n",
            "2019-12-27   29.000000   29.020666   28.407333   28.691999  149185500   \n",
            "2019-12-30   28.586000   28.600000   27.284000   27.646667  188796000   \n",
            "2019-12-31   27.000000   28.086000   26.805332   27.888666  154285500   \n",
            "...                ...         ...         ...         ...        ...   \n",
            "2022-02-22  278.043335  285.576660  267.033325  273.843323   83288100   \n",
            "2022-02-23  276.809998  278.433319  253.520004  254.679993   95256900   \n",
            "2022-02-24  233.463333  267.493347  233.333328  266.923340  135322200   \n",
            "2022-02-25  269.743347  273.166656  260.799988  269.956665   76067700   \n",
            "2022-02-28  271.670013  292.286682  271.570007  290.143341   99006900   \n",
            "\n",
            "            Dividends  Stock Splits  compound  \n",
            "2019-12-24        0.0           0.0  0.556793  \n",
            "2019-12-26        0.0           0.0  0.592527  \n",
            "2019-12-27        0.0           0.0  0.627389  \n",
            "2019-12-30        0.0           0.0  0.631314  \n",
            "2019-12-31        0.0           0.0  0.559097  \n",
            "...               ...           ...       ...  \n",
            "2022-02-22        0.0           0.0  0.504454  \n",
            "2022-02-23        0.0           0.0  0.519528  \n",
            "2022-02-24        0.0           0.0  0.517535  \n",
            "2022-02-25        0.0           0.0  0.517250  \n",
            "2022-02-28        0.0           0.0  0.487061  \n",
            "\n",
            "[549 rows x 8 columns]\n"
          ]
        }
      ]
    },
    {
      "cell_type": "code",
      "source": [],
      "metadata": {
        "id": "x4ufiz233qBZ"
      },
      "execution_count": null,
      "outputs": []
    }
  ]
}